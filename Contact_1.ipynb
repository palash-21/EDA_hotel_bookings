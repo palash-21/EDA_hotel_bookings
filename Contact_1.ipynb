{
  "nbformat": 4,
  "nbformat_minor": 0,
  "metadata": {
    "colab": {
      "name": "Contact_1.ipynb",
      "provenance": [],
      "collapsed_sections": [],
      "include_colab_link": true
    },
    "kernelspec": {
      "name": "python3",
      "display_name": "Python 3"
    },
    "language_info": {
      "name": "python"
    }
  },
  "cells": [
    {
      "cell_type": "markdown",
      "metadata": {
        "id": "view-in-github",
        "colab_type": "text"
      },
      "source": [
        "<a href=\"https://colab.research.google.com/github/palash-21/EDA_hotel_bookings/blob/main/Contact_1.ipynb\" target=\"_parent\"><img src=\"https://colab.research.google.com/assets/colab-badge.svg\" alt=\"Open In Colab\"/></a>"
      ]
    },
    {
      "cell_type": "code",
      "source": [
        "!pip install scrapingbee\n",
        "import pandas as pd\n",
        "from scrapingbee import ScrapingBeeClient\n",
        "from bs4 import BeautifulSoup\n",
        "#client = ScrapingBeeClient(api_key='UUYBVYRC5KFNR1A4T73RDCTFPXNMS56HQIV9PQHITYZCK0NIDOQ0V8V3WF9QYSXR0C768ZYXI4BVG1ZR')\n",
        "client = ScrapingBeeClient(api_key='2HAV61LUJEMJRNLCU6IKIADBXPZSWBWT3I55ZKMWAFSCKCWLMUGB21KVS9VXX42X7HX5ES7A2KLODU7E')"
      ],
      "metadata": {
        "colab": {
          "base_uri": "https://localhost:8080/"
        },
        "id": "tMYBqa666XOk",
        "outputId": "07840b08-9d82-4cd5-a475-3b1c99c8bb8a"
      },
      "execution_count": 1,
      "outputs": [
        {
          "output_type": "stream",
          "name": "stdout",
          "text": [
            "Looking in indexes: https://pypi.org/simple, https://us-python.pkg.dev/colab-wheels/public/simple/\n",
            "Collecting scrapingbee\n",
            "  Downloading scrapingbee-1.1.7-py3-none-any.whl (5.1 kB)\n",
            "Requirement already satisfied: requests in /usr/local/lib/python3.7/dist-packages (from scrapingbee) (2.23.0)\n",
            "Requirement already satisfied: certifi>=2017.4.17 in /usr/local/lib/python3.7/dist-packages (from requests->scrapingbee) (2022.6.15)\n",
            "Requirement already satisfied: urllib3!=1.25.0,!=1.25.1,<1.26,>=1.21.1 in /usr/local/lib/python3.7/dist-packages (from requests->scrapingbee) (1.24.3)\n",
            "Requirement already satisfied: idna<3,>=2.5 in /usr/local/lib/python3.7/dist-packages (from requests->scrapingbee) (2.10)\n",
            "Requirement already satisfied: chardet<4,>=3.0.2 in /usr/local/lib/python3.7/dist-packages (from requests->scrapingbee) (3.0.4)\n",
            "Installing collected packages: scrapingbee\n",
            "Successfully installed scrapingbee-1.1.7\n"
          ]
        }
      ]
    },
    {
      "cell_type": "code",
      "source": [
        "df = pd.read_excel('/content/Get Phone Numbers.xlsx')"
      ],
      "metadata": {
        "id": "TI-Mwarf-e5S"
      },
      "execution_count": 2,
      "outputs": []
    },
    {
      "cell_type": "code",
      "source": [
        "df.shape"
      ],
      "metadata": {
        "colab": {
          "base_uri": "https://localhost:8080/"
        },
        "id": "z19vsVrQHFap",
        "outputId": "248d8f22-ea78-4178-aab0-ae51085e1ef7"
      },
      "execution_count": 3,
      "outputs": [
        {
          "output_type": "execute_result",
          "data": {
            "text/plain": [
              "(1013, 11)"
            ]
          },
          "metadata": {},
          "execution_count": 3
        }
      ]
    },
    {
      "cell_type": "code",
      "source": [
        "df.head()"
      ],
      "metadata": {
        "colab": {
          "base_uri": "https://localhost:8080/",
          "height": 389
        },
        "id": "WqCMICNL-e3L",
        "outputId": "6a990888-9685-4dd2-acf2-3166296ee985"
      },
      "execution_count": null,
      "outputs": [
        {
          "output_type": "execute_result",
          "data": {
            "text/plain": [
              "            Company Name                                      Address  \\\n",
              "0                 Edubiz                             Mullan Derrylin,   \n",
              "1          Ecorider Ltd.                Balmakeith Industrial Estate,   \n",
              "2  Eclipse Magnetics Ltd                      Units 1-4, Vulcan Road,   \n",
              "3       Dockequipment.Eu  Bouwweg 14,8243 PJ Lelystad,The Netherlands   \n",
              "4              Dmr Seals             unit 24, julian road, sheffield,   \n",
              "\n",
              "          City       Pin         Country                         Email1  \\\n",
              "0  Enniskillen  BT92 9BJ  United Kingdom             sales@edubiz.co.uk   \n",
              "1    Inverness  IV12 5QW  United Kingdom             sales@ecorider.com   \n",
              "2    Sheffield   S21 4gq  United Kingdom  sales@eclipse-magnetics.co.uk   \n",
              "3          NaN       NaN      Netherland        sales@dockequipments.eu   \n",
              "4    Rotherham     s91fz  United Kingdom           sales@dmrseals.co.uk   \n",
              "\n",
              "  Email2                            Websites  \\\n",
              "0    NaN             http://www.edubiz.co.uk   \n",
              "1    NaN             http://www.ecorider.com   \n",
              "2    NaN  http://www.eclipse-magnetics.co.uk   \n",
              "3    NaN                www.dockequipment.eu   \n",
              "4    NaN                                 NaN   \n",
              "\n",
              "                                    Business Details Contact No  \\\n",
              "0  Office supplies items Office Equipment & Supplies        NaN   \n",
              "1  Diesel engines, terrain vehicles Diesel Engine...        NaN   \n",
              "2  Magnets & Magnetic Devices and products Magnet...        NaN   \n",
              "3  Swing lip Dock Levelers Telescopic Lip, Dock L...        NaN   \n",
              "4                 All kinds of seals Gaskets & Seals        NaN   \n",
              "\n",
              "   Alternate Contact No  \n",
              "0                   NaN  \n",
              "1                   NaN  \n",
              "2                   NaN  \n",
              "3                   NaN  \n",
              "4                   NaN  "
            ],
            "text/html": [
              "\n",
              "  <div id=\"df-34782d48-27e5-46c5-9a11-5c082859825d\">\n",
              "    <div class=\"colab-df-container\">\n",
              "      <div>\n",
              "<style scoped>\n",
              "    .dataframe tbody tr th:only-of-type {\n",
              "        vertical-align: middle;\n",
              "    }\n",
              "\n",
              "    .dataframe tbody tr th {\n",
              "        vertical-align: top;\n",
              "    }\n",
              "\n",
              "    .dataframe thead th {\n",
              "        text-align: right;\n",
              "    }\n",
              "</style>\n",
              "<table border=\"1\" class=\"dataframe\">\n",
              "  <thead>\n",
              "    <tr style=\"text-align: right;\">\n",
              "      <th></th>\n",
              "      <th>Company Name</th>\n",
              "      <th>Address</th>\n",
              "      <th>City</th>\n",
              "      <th>Pin</th>\n",
              "      <th>Country</th>\n",
              "      <th>Email1</th>\n",
              "      <th>Email2</th>\n",
              "      <th>Websites</th>\n",
              "      <th>Business Details</th>\n",
              "      <th>Contact No</th>\n",
              "      <th>Alternate Contact No</th>\n",
              "    </tr>\n",
              "  </thead>\n",
              "  <tbody>\n",
              "    <tr>\n",
              "      <th>0</th>\n",
              "      <td>Edubiz</td>\n",
              "      <td>Mullan Derrylin,</td>\n",
              "      <td>Enniskillen</td>\n",
              "      <td>BT92 9BJ</td>\n",
              "      <td>United Kingdom</td>\n",
              "      <td>sales@edubiz.co.uk</td>\n",
              "      <td>NaN</td>\n",
              "      <td>http://www.edubiz.co.uk</td>\n",
              "      <td>Office supplies items Office Equipment &amp; Supplies</td>\n",
              "      <td>NaN</td>\n",
              "      <td>NaN</td>\n",
              "    </tr>\n",
              "    <tr>\n",
              "      <th>1</th>\n",
              "      <td>Ecorider Ltd.</td>\n",
              "      <td>Balmakeith Industrial Estate,</td>\n",
              "      <td>Inverness</td>\n",
              "      <td>IV12 5QW</td>\n",
              "      <td>United Kingdom</td>\n",
              "      <td>sales@ecorider.com</td>\n",
              "      <td>NaN</td>\n",
              "      <td>http://www.ecorider.com</td>\n",
              "      <td>Diesel engines, terrain vehicles Diesel Engine...</td>\n",
              "      <td>NaN</td>\n",
              "      <td>NaN</td>\n",
              "    </tr>\n",
              "    <tr>\n",
              "      <th>2</th>\n",
              "      <td>Eclipse Magnetics Ltd</td>\n",
              "      <td>Units 1-4, Vulcan Road,</td>\n",
              "      <td>Sheffield</td>\n",
              "      <td>S21 4gq</td>\n",
              "      <td>United Kingdom</td>\n",
              "      <td>sales@eclipse-magnetics.co.uk</td>\n",
              "      <td>NaN</td>\n",
              "      <td>http://www.eclipse-magnetics.co.uk</td>\n",
              "      <td>Magnets &amp; Magnetic Devices and products Magnet...</td>\n",
              "      <td>NaN</td>\n",
              "      <td>NaN</td>\n",
              "    </tr>\n",
              "    <tr>\n",
              "      <th>3</th>\n",
              "      <td>Dockequipment.Eu</td>\n",
              "      <td>Bouwweg 14,8243 PJ Lelystad,The Netherlands</td>\n",
              "      <td>NaN</td>\n",
              "      <td>NaN</td>\n",
              "      <td>Netherland</td>\n",
              "      <td>sales@dockequipments.eu</td>\n",
              "      <td>NaN</td>\n",
              "      <td>www.dockequipment.eu</td>\n",
              "      <td>Swing lip Dock Levelers Telescopic Lip, Dock L...</td>\n",
              "      <td>NaN</td>\n",
              "      <td>NaN</td>\n",
              "    </tr>\n",
              "    <tr>\n",
              "      <th>4</th>\n",
              "      <td>Dmr Seals</td>\n",
              "      <td>unit 24, julian road, sheffield,</td>\n",
              "      <td>Rotherham</td>\n",
              "      <td>s91fz</td>\n",
              "      <td>United Kingdom</td>\n",
              "      <td>sales@dmrseals.co.uk</td>\n",
              "      <td>NaN</td>\n",
              "      <td>NaN</td>\n",
              "      <td>All kinds of seals Gaskets &amp; Seals</td>\n",
              "      <td>NaN</td>\n",
              "      <td>NaN</td>\n",
              "    </tr>\n",
              "  </tbody>\n",
              "</table>\n",
              "</div>\n",
              "      <button class=\"colab-df-convert\" onclick=\"convertToInteractive('df-34782d48-27e5-46c5-9a11-5c082859825d')\"\n",
              "              title=\"Convert this dataframe to an interactive table.\"\n",
              "              style=\"display:none;\">\n",
              "        \n",
              "  <svg xmlns=\"http://www.w3.org/2000/svg\" height=\"24px\"viewBox=\"0 0 24 24\"\n",
              "       width=\"24px\">\n",
              "    <path d=\"M0 0h24v24H0V0z\" fill=\"none\"/>\n",
              "    <path d=\"M18.56 5.44l.94 2.06.94-2.06 2.06-.94-2.06-.94-.94-2.06-.94 2.06-2.06.94zm-11 1L8.5 8.5l.94-2.06 2.06-.94-2.06-.94L8.5 2.5l-.94 2.06-2.06.94zm10 10l.94 2.06.94-2.06 2.06-.94-2.06-.94-.94-2.06-.94 2.06-2.06.94z\"/><path d=\"M17.41 7.96l-1.37-1.37c-.4-.4-.92-.59-1.43-.59-.52 0-1.04.2-1.43.59L10.3 9.45l-7.72 7.72c-.78.78-.78 2.05 0 2.83L4 21.41c.39.39.9.59 1.41.59.51 0 1.02-.2 1.41-.59l7.78-7.78 2.81-2.81c.8-.78.8-2.07 0-2.86zM5.41 20L4 18.59l7.72-7.72 1.47 1.35L5.41 20z\"/>\n",
              "  </svg>\n",
              "      </button>\n",
              "      \n",
              "  <style>\n",
              "    .colab-df-container {\n",
              "      display:flex;\n",
              "      flex-wrap:wrap;\n",
              "      gap: 12px;\n",
              "    }\n",
              "\n",
              "    .colab-df-convert {\n",
              "      background-color: #E8F0FE;\n",
              "      border: none;\n",
              "      border-radius: 50%;\n",
              "      cursor: pointer;\n",
              "      display: none;\n",
              "      fill: #1967D2;\n",
              "      height: 32px;\n",
              "      padding: 0 0 0 0;\n",
              "      width: 32px;\n",
              "    }\n",
              "\n",
              "    .colab-df-convert:hover {\n",
              "      background-color: #E2EBFA;\n",
              "      box-shadow: 0px 1px 2px rgba(60, 64, 67, 0.3), 0px 1px 3px 1px rgba(60, 64, 67, 0.15);\n",
              "      fill: #174EA6;\n",
              "    }\n",
              "\n",
              "    [theme=dark] .colab-df-convert {\n",
              "      background-color: #3B4455;\n",
              "      fill: #D2E3FC;\n",
              "    }\n",
              "\n",
              "    [theme=dark] .colab-df-convert:hover {\n",
              "      background-color: #434B5C;\n",
              "      box-shadow: 0px 1px 3px 1px rgba(0, 0, 0, 0.15);\n",
              "      filter: drop-shadow(0px 1px 2px rgba(0, 0, 0, 0.3));\n",
              "      fill: #FFFFFF;\n",
              "    }\n",
              "  </style>\n",
              "\n",
              "      <script>\n",
              "        const buttonEl =\n",
              "          document.querySelector('#df-34782d48-27e5-46c5-9a11-5c082859825d button.colab-df-convert');\n",
              "        buttonEl.style.display =\n",
              "          google.colab.kernel.accessAllowed ? 'block' : 'none';\n",
              "\n",
              "        async function convertToInteractive(key) {\n",
              "          const element = document.querySelector('#df-34782d48-27e5-46c5-9a11-5c082859825d');\n",
              "          const dataTable =\n",
              "            await google.colab.kernel.invokeFunction('convertToInteractive',\n",
              "                                                     [key], {});\n",
              "          if (!dataTable) return;\n",
              "\n",
              "          const docLinkHtml = 'Like what you see? Visit the ' +\n",
              "            '<a target=\"_blank\" href=https://colab.research.google.com/notebooks/data_table.ipynb>data table notebook</a>'\n",
              "            + ' to learn more about interactive tables.';\n",
              "          element.innerHTML = '';\n",
              "          dataTable['output_type'] = 'display_data';\n",
              "          await google.colab.output.renderOutput(dataTable, element);\n",
              "          const docLink = document.createElement('div');\n",
              "          docLink.innerHTML = docLinkHtml;\n",
              "          element.appendChild(docLink);\n",
              "        }\n",
              "      </script>\n",
              "    </div>\n",
              "  </div>\n",
              "  "
            ]
          },
          "metadata": {},
          "execution_count": 27
        }
      ]
    },
    {
      "cell_type": "code",
      "source": [
        "df['Name_City'] = df['Company Name'].astype(str) +\"_\"+ df[\"City\"]"
      ],
      "metadata": {
        "id": "mwI6D6xesbzx"
      },
      "execution_count": 7,
      "outputs": []
    },
    {
      "cell_type": "code",
      "source": [
        "def Comp_Name_Chnge(comp_name):\n",
        "  \n",
        "  edited_name= comp_name.replace(' Ltd.','')\n",
        "  edited_name = edited_name.replace(' Ltd','')\n",
        "  edited_name = edited_name.replace(' ','_')\n",
        "  return edited_name"
      ],
      "metadata": {
        "id": "TnSlObzMDhKm"
      },
      "execution_count": 4,
      "outputs": []
    },
    {
      "cell_type": "code",
      "source": [
        "def GetnerateLink(comp):\n",
        "  origin_link = 'https://search.indiatradepage.com/all/'\n",
        "  comp_search_link = origin_link + comp + '/' \n",
        "  return comp_search_link"
      ],
      "metadata": {
        "id": "5JbUD-y2FJfk"
      },
      "execution_count": 9,
      "outputs": []
    },
    {
      "cell_type": "code",
      "source": [
        "comp_list = df['Name_City'][100:104]\n",
        "comp_list = comp_list.apply(Comp_Name_Chnge)\n",
        "comp_search_links = comp_list.apply(GetnerateLink)\n",
        "#comp_search_links = df.apply(lambda x: GetnerateLink(x.col_1, x.col_2)\n",
        "cont_list_200_400 = []\n",
        "i =100\n",
        "for companies in comp_search_links:\n",
        "  contact = ''\n",
        "  response = client.get(companies)\n",
        "  if response.status_code == 200:\n",
        "    soup=BeautifulSoup(response.text)\n",
        "    mydivs = soup.find_all(\"div\", {\"class\": \"c_list\"})\n",
        "    if len(mydivs) == 2:\n",
        "      if 'Phone' in  mydivs[1].text:\n",
        "        #if comp_city[i].lower() in mydivs[1].text.lower():\n",
        "        start_ind = mydivs[1].text.find('Phone :')\n",
        "        end_ind = mydivs[1].text[start_ind:].find(',')\n",
        "        contact = mydivs[1].text[start_ind + 8: start_ind + end_ind ]\n",
        "  if contact:\n",
        "    cont_list_200_400.append(contact)\n",
        "  else :\n",
        "    cont_list_200_400.append('NA')\n",
        "  i +=1"
      ],
      "metadata": {
        "id": "FcrXU_1n-euc"
      },
      "execution_count": 10,
      "outputs": []
    },
    {
      "cell_type": "code",
      "source": [
        "len(cont_list_200_400)"
      ],
      "metadata": {
        "id": "shhvv4o5WiZL",
        "colab": {
          "base_uri": "https://localhost:8080/"
        },
        "outputId": "37a25e0e-9dce-402c-93a6-9d8b01a81d93"
      },
      "execution_count": 11,
      "outputs": [
        {
          "output_type": "execute_result",
          "data": {
            "text/plain": [
              "4"
            ]
          },
          "metadata": {},
          "execution_count": 11
        }
      ]
    },
    {
      "cell_type": "code",
      "source": [
        "df['Contact No'][200:400] = cont_list_200_400"
      ],
      "metadata": {
        "id": "-ZqwfPDBoZyt"
      },
      "execution_count": null,
      "outputs": []
    },
    {
      "cell_type": "code",
      "source": [
        "df.to_csv('out.csv')"
      ],
      "metadata": {
        "id": "e7336OyRocrp"
      },
      "execution_count": null,
      "outputs": []
    }
  ]
}